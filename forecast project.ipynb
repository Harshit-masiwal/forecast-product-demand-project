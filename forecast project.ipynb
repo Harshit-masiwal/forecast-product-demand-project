{
 "cells": [
  {
   "cell_type": "code",
   "execution_count": 23,
   "id": "7ed78d9e-a2ba-4180-bcbf-015aba0fd328",
   "metadata": {},
   "outputs": [],
   "source": [
    "import pandas as pd\n",
    "import numpy as np\n",
    "import matplotlib.pyplot as plt\n",
    "import seaborn as sns\n",
    "from sklearn.model_selection import train_test_split\n",
    "from sklearn.preprocessing import LabelEncoder\n",
    "from statsmodels.tsa.stattools import adfuller\n",
    "from pandas.plotting import autocorrelation_plot\n",
    "from statsmodels.graphics.tsaplots import plot_acf, plot_pacf"
   ]
  },
  {
   "cell_type": "code",
   "execution_count": 35,
   "id": "91a9f60b-6fe0-4ffb-aa2e-e5717c0d6bb8",
   "metadata": {},
   "outputs": [
    {
     "data": {
      "text/html": [
       "<div>\n",
       "<style scoped>\n",
       "    .dataframe tbody tr th:only-of-type {\n",
       "        vertical-align: middle;\n",
       "    }\n",
       "\n",
       "    .dataframe tbody tr th {\n",
       "        vertical-align: top;\n",
       "    }\n",
       "\n",
       "    .dataframe thead th {\n",
       "        text-align: right;\n",
       "    }\n",
       "</style>\n",
       "<table border=\"1\" class=\"dataframe\">\n",
       "  <thead>\n",
       "    <tr style=\"text-align: right;\">\n",
       "      <th></th>\n",
       "      <th>Product_Code</th>\n",
       "      <th>Warehouse</th>\n",
       "      <th>Product_Category</th>\n",
       "      <th>Date</th>\n",
       "      <th>Order_Demand</th>\n",
       "    </tr>\n",
       "  </thead>\n",
       "  <tbody>\n",
       "    <tr>\n",
       "      <th>0</th>\n",
       "      <td>Product_0993</td>\n",
       "      <td>Whse_J</td>\n",
       "      <td>Category_028</td>\n",
       "      <td>2012/7/27</td>\n",
       "      <td>100</td>\n",
       "    </tr>\n",
       "    <tr>\n",
       "      <th>1</th>\n",
       "      <td>Product_0979</td>\n",
       "      <td>Whse_J</td>\n",
       "      <td>Category_028</td>\n",
       "      <td>2012/1/19</td>\n",
       "      <td>500</td>\n",
       "    </tr>\n",
       "    <tr>\n",
       "      <th>2</th>\n",
       "      <td>Product_0979</td>\n",
       "      <td>Whse_J</td>\n",
       "      <td>Category_028</td>\n",
       "      <td>2012/2/3</td>\n",
       "      <td>500</td>\n",
       "    </tr>\n",
       "    <tr>\n",
       "      <th>3</th>\n",
       "      <td>Product_0979</td>\n",
       "      <td>Whse_J</td>\n",
       "      <td>Category_028</td>\n",
       "      <td>2012/2/9</td>\n",
       "      <td>500</td>\n",
       "    </tr>\n",
       "    <tr>\n",
       "      <th>4</th>\n",
       "      <td>Product_0979</td>\n",
       "      <td>Whse_J</td>\n",
       "      <td>Category_028</td>\n",
       "      <td>2012/3/2</td>\n",
       "      <td>500</td>\n",
       "    </tr>\n",
       "    <tr>\n",
       "      <th>...</th>\n",
       "      <td>...</td>\n",
       "      <td>...</td>\n",
       "      <td>...</td>\n",
       "      <td>...</td>\n",
       "      <td>...</td>\n",
       "    </tr>\n",
       "    <tr>\n",
       "      <th>1048570</th>\n",
       "      <td>Product_1791</td>\n",
       "      <td>Whse_J</td>\n",
       "      <td>Category_006</td>\n",
       "      <td>2016/4/27</td>\n",
       "      <td>1000</td>\n",
       "    </tr>\n",
       "    <tr>\n",
       "      <th>1048571</th>\n",
       "      <td>Product_1974</td>\n",
       "      <td>Whse_J</td>\n",
       "      <td>Category_006</td>\n",
       "      <td>2016/4/27</td>\n",
       "      <td>1</td>\n",
       "    </tr>\n",
       "    <tr>\n",
       "      <th>1048572</th>\n",
       "      <td>Product_1787</td>\n",
       "      <td>Whse_J</td>\n",
       "      <td>Category_006</td>\n",
       "      <td>2016/4/28</td>\n",
       "      <td>2500</td>\n",
       "    </tr>\n",
       "    <tr>\n",
       "      <th>1048573</th>\n",
       "      <td>Product_0901</td>\n",
       "      <td>Whse_J</td>\n",
       "      <td>Category_023</td>\n",
       "      <td>2016/10/7</td>\n",
       "      <td>50</td>\n",
       "    </tr>\n",
       "    <tr>\n",
       "      <th>1048574</th>\n",
       "      <td>Product_0704</td>\n",
       "      <td>Whse_J</td>\n",
       "      <td>Category_001</td>\n",
       "      <td>2016/6/27</td>\n",
       "      <td>4</td>\n",
       "    </tr>\n",
       "  </tbody>\n",
       "</table>\n",
       "<p>1048575 rows × 5 columns</p>\n",
       "</div>"
      ],
      "text/plain": [
       "         Product_Code Warehouse Product_Category       Date Order_Demand\n",
       "0        Product_0993    Whse_J     Category_028  2012/7/27         100 \n",
       "1        Product_0979    Whse_J     Category_028  2012/1/19         500 \n",
       "2        Product_0979    Whse_J     Category_028   2012/2/3         500 \n",
       "3        Product_0979    Whse_J     Category_028   2012/2/9         500 \n",
       "4        Product_0979    Whse_J     Category_028   2012/3/2         500 \n",
       "...               ...       ...              ...        ...          ...\n",
       "1048570  Product_1791    Whse_J     Category_006  2016/4/27        1000 \n",
       "1048571  Product_1974    Whse_J     Category_006  2016/4/27           1 \n",
       "1048572  Product_1787    Whse_J     Category_006  2016/4/28        2500 \n",
       "1048573  Product_0901    Whse_J     Category_023  2016/10/7          50 \n",
       "1048574  Product_0704    Whse_J     Category_001  2016/6/27           4 \n",
       "\n",
       "[1048575 rows x 5 columns]"
      ]
     },
     "execution_count": 35,
     "metadata": {},
     "output_type": "execute_result"
    }
   ],
   "source": [
    "data = pd.read_csv('/Users/harshitmasiwal/Downloads/Historical Product Demand.csv')\n",
    "data"
   ]
  },
  {
   "cell_type": "code",
   "execution_count": 36,
   "id": "55eb0efb-a21f-444a-8187-31d591058751",
   "metadata": {},
   "outputs": [
    {
     "name": "stdout",
     "output_type": "stream",
     "text": [
      "<class 'pandas.core.frame.DataFrame'>\n",
      "RangeIndex: 1048575 entries, 0 to 1048574\n",
      "Data columns (total 5 columns):\n",
      " #   Column            Non-Null Count    Dtype \n",
      "---  ------            --------------    ----- \n",
      " 0   Product_Code      1048575 non-null  object\n",
      " 1   Warehouse         1048575 non-null  object\n",
      " 2   Product_Category  1048575 non-null  object\n",
      " 3   Date              1037336 non-null  object\n",
      " 4   Order_Demand      1048575 non-null  object\n",
      "dtypes: object(5)\n",
      "memory usage: 40.0+ MB\n"
     ]
    }
   ],
   "source": [
    "data.info()"
   ]
  },
  {
   "cell_type": "markdown",
   "id": "2dd3507a-7a44-4e47-82c7-c2c448097055",
   "metadata": {},
   "source": [
    "#  A quick insightful statistical summary"
   ]
  },
  {
   "cell_type": "code",
   "execution_count": 37,
   "id": "d98b089f-4abc-4965-9fd9-66bb575c83cc",
   "metadata": {},
   "outputs": [
    {
     "data": {
      "text/html": [
       "<div>\n",
       "<style scoped>\n",
       "    .dataframe tbody tr th:only-of-type {\n",
       "        vertical-align: middle;\n",
       "    }\n",
       "\n",
       "    .dataframe tbody tr th {\n",
       "        vertical-align: top;\n",
       "    }\n",
       "\n",
       "    .dataframe thead th {\n",
       "        text-align: right;\n",
       "    }\n",
       "</style>\n",
       "<table border=\"1\" class=\"dataframe\">\n",
       "  <thead>\n",
       "    <tr style=\"text-align: right;\">\n",
       "      <th></th>\n",
       "      <th>count</th>\n",
       "      <th>unique</th>\n",
       "      <th>top</th>\n",
       "      <th>freq</th>\n",
       "    </tr>\n",
       "  </thead>\n",
       "  <tbody>\n",
       "    <tr>\n",
       "      <th>Product_Code</th>\n",
       "      <td>1048575</td>\n",
       "      <td>2160</td>\n",
       "      <td>Product_1359</td>\n",
       "      <td>16936</td>\n",
       "    </tr>\n",
       "    <tr>\n",
       "      <th>Warehouse</th>\n",
       "      <td>1048575</td>\n",
       "      <td>4</td>\n",
       "      <td>Whse_J</td>\n",
       "      <td>764447</td>\n",
       "    </tr>\n",
       "    <tr>\n",
       "      <th>Product_Category</th>\n",
       "      <td>1048575</td>\n",
       "      <td>33</td>\n",
       "      <td>Category_019</td>\n",
       "      <td>481099</td>\n",
       "    </tr>\n",
       "    <tr>\n",
       "      <th>Date</th>\n",
       "      <td>1037336</td>\n",
       "      <td>1729</td>\n",
       "      <td>2013/9/27</td>\n",
       "      <td>2075</td>\n",
       "    </tr>\n",
       "    <tr>\n",
       "      <th>Order_Demand</th>\n",
       "      <td>1048575</td>\n",
       "      <td>3828</td>\n",
       "      <td>1000</td>\n",
       "      <td>112682</td>\n",
       "    </tr>\n",
       "  </tbody>\n",
       "</table>\n",
       "</div>"
      ],
      "text/plain": [
       "                    count unique           top    freq\n",
       "Product_Code      1048575   2160  Product_1359   16936\n",
       "Warehouse         1048575      4        Whse_J  764447\n",
       "Product_Category  1048575     33  Category_019  481099\n",
       "Date              1037336   1729     2013/9/27    2075\n",
       "Order_Demand      1048575   3828         1000   112682"
      ]
     },
     "execution_count": 37,
     "metadata": {},
     "output_type": "execute_result"
    }
   ],
   "source": [
    "data.describe().transpose()\n"
   ]
  },
  {
   "cell_type": "markdown",
   "id": "dafabd1d",
   "metadata": {},
   "source": [
    "# Duplicates are present in the dataset"
   ]
  },
  {
   "cell_type": "code",
   "execution_count": 38,
   "id": "a52e09ac",
   "metadata": {},
   "outputs": [
    {
     "data": {
      "text/html": [
       "<div>\n",
       "<style scoped>\n",
       "    .dataframe tbody tr th:only-of-type {\n",
       "        vertical-align: middle;\n",
       "    }\n",
       "\n",
       "    .dataframe tbody tr th {\n",
       "        vertical-align: top;\n",
       "    }\n",
       "\n",
       "    .dataframe thead th {\n",
       "        text-align: right;\n",
       "    }\n",
       "</style>\n",
       "<table border=\"1\" class=\"dataframe\">\n",
       "  <thead>\n",
       "    <tr style=\"text-align: right;\">\n",
       "      <th></th>\n",
       "      <th>Product_Code</th>\n",
       "      <th>Warehouse</th>\n",
       "      <th>Product_Category</th>\n",
       "      <th>Date</th>\n",
       "      <th>Order_Demand</th>\n",
       "    </tr>\n",
       "  </thead>\n",
       "  <tbody>\n",
       "    <tr>\n",
       "      <th>10</th>\n",
       "      <td>Product_0979</td>\n",
       "      <td>Whse_J</td>\n",
       "      <td>Category_028</td>\n",
       "      <td>2012/8/29</td>\n",
       "      <td>500</td>\n",
       "    </tr>\n",
       "    <tr>\n",
       "      <th>39</th>\n",
       "      <td>Product_1159</td>\n",
       "      <td>Whse_J</td>\n",
       "      <td>Category_006</td>\n",
       "      <td>2012/8/30</td>\n",
       "      <td>50000</td>\n",
       "    </tr>\n",
       "    <tr>\n",
       "      <th>51</th>\n",
       "      <td>Product_1157</td>\n",
       "      <td>Whse_J</td>\n",
       "      <td>Category_006</td>\n",
       "      <td>2012/3/8</td>\n",
       "      <td>150000</td>\n",
       "    </tr>\n",
       "    <tr>\n",
       "      <th>55</th>\n",
       "      <td>Product_1157</td>\n",
       "      <td>Whse_J</td>\n",
       "      <td>Category_006</td>\n",
       "      <td>2012/6/4</td>\n",
       "      <td>160000</td>\n",
       "    </tr>\n",
       "    <tr>\n",
       "      <th>67</th>\n",
       "      <td>Product_1274</td>\n",
       "      <td>Whse_J</td>\n",
       "      <td>Category_019</td>\n",
       "      <td>2012/1/24</td>\n",
       "      <td>1000</td>\n",
       "    </tr>\n",
       "    <tr>\n",
       "      <th>...</th>\n",
       "      <td>...</td>\n",
       "      <td>...</td>\n",
       "      <td>...</td>\n",
       "      <td>...</td>\n",
       "      <td>...</td>\n",
       "    </tr>\n",
       "    <tr>\n",
       "      <th>1048508</th>\n",
       "      <td>Product_1148</td>\n",
       "      <td>Whse_J</td>\n",
       "      <td>Category_006</td>\n",
       "      <td>2016/9/1</td>\n",
       "      <td>5000</td>\n",
       "    </tr>\n",
       "    <tr>\n",
       "      <th>1048521</th>\n",
       "      <td>Product_1391</td>\n",
       "      <td>Whse_J</td>\n",
       "      <td>Category_019</td>\n",
       "      <td>2016/6/3</td>\n",
       "      <td>100</td>\n",
       "    </tr>\n",
       "    <tr>\n",
       "      <th>1048531</th>\n",
       "      <td>Product_1391</td>\n",
       "      <td>Whse_J</td>\n",
       "      <td>Category_019</td>\n",
       "      <td>2016/8/22</td>\n",
       "      <td>100</td>\n",
       "    </tr>\n",
       "    <tr>\n",
       "      <th>1048568</th>\n",
       "      <td>Product_1759</td>\n",
       "      <td>Whse_J</td>\n",
       "      <td>Category_001</td>\n",
       "      <td>2016/8/17</td>\n",
       "      <td>1</td>\n",
       "    </tr>\n",
       "    <tr>\n",
       "      <th>1048570</th>\n",
       "      <td>Product_1791</td>\n",
       "      <td>Whse_J</td>\n",
       "      <td>Category_006</td>\n",
       "      <td>2016/4/27</td>\n",
       "      <td>1000</td>\n",
       "    </tr>\n",
       "  </tbody>\n",
       "</table>\n",
       "<p>122423 rows × 5 columns</p>\n",
       "</div>"
      ],
      "text/plain": [
       "         Product_Code Warehouse Product_Category       Date Order_Demand\n",
       "10       Product_0979    Whse_J     Category_028  2012/8/29         500 \n",
       "39       Product_1159    Whse_J     Category_006  2012/8/30       50000 \n",
       "51       Product_1157    Whse_J     Category_006   2012/3/8      150000 \n",
       "55       Product_1157    Whse_J     Category_006   2012/6/4      160000 \n",
       "67       Product_1274    Whse_J     Category_019  2012/1/24        1000 \n",
       "...               ...       ...              ...        ...          ...\n",
       "1048508  Product_1148    Whse_J     Category_006   2016/9/1        5000 \n",
       "1048521  Product_1391    Whse_J     Category_019   2016/6/3         100 \n",
       "1048531  Product_1391    Whse_J     Category_019  2016/8/22         100 \n",
       "1048568  Product_1759    Whse_J     Category_001  2016/8/17           1 \n",
       "1048570  Product_1791    Whse_J     Category_006  2016/4/27        1000 \n",
       "\n",
       "[122423 rows x 5 columns]"
      ]
     },
     "execution_count": 38,
     "metadata": {},
     "output_type": "execute_result"
    }
   ],
   "source": [
    "data[data.duplicated()==True]"
   ]
  },
  {
   "cell_type": "markdown",
   "id": "23ebe06c",
   "metadata": {},
   "source": [
    "# dropping the duplicates"
   ]
  },
  {
   "cell_type": "code",
   "execution_count": 39,
   "id": "bfa633ce",
   "metadata": {},
   "outputs": [],
   "source": [
    "data = data.drop_duplicates()"
   ]
  },
  {
   "cell_type": "markdown",
   "id": "2d22a997",
   "metadata": {},
   "source": [
    "# Missing values are also present in the dataset"
   ]
  },
  {
   "cell_type": "code",
   "execution_count": 40,
   "id": "471dee9b",
   "metadata": {},
   "outputs": [
    {
     "data": {
      "text/plain": [
       "Product_Code           0\n",
       "Warehouse              0\n",
       "Product_Category       0\n",
       "Date                1880\n",
       "Order_Demand           0\n",
       "dtype: int64"
      ]
     },
     "execution_count": 40,
     "metadata": {},
     "output_type": "execute_result"
    }
   ],
   "source": [
    "data.isnull().sum()"
   ]
  },
  {
   "cell_type": "markdown",
   "id": "ffba179e",
   "metadata": {},
   "source": [
    " # Changing datetime object type"
   ]
  },
  {
   "cell_type": "code",
   "execution_count": 41,
   "id": "0cbc56ea",
   "metadata": {},
   "outputs": [
    {
     "data": {
      "text/plain": [
       "0          2012-07-27 00:00:00\n",
       "1          2012-01-19 00:00:00\n",
       "2          2012-02-03 00:00:00\n",
       "3          2012-02-09 00:00:00\n",
       "4          2012-03-02 00:00:00\n",
       "                  ...         \n",
       "1048569    2016-11-10 00:00:00\n",
       "1048571    2016-04-27 00:00:00\n",
       "1048572    2016-04-28 00:00:00\n",
       "1048573    2016-10-07 00:00:00\n",
       "1048574    2016-06-27 00:00:00\n",
       "Name: Date, Length: 926152, dtype: object"
      ]
     },
     "execution_count": 41,
     "metadata": {},
     "output_type": "execute_result"
    }
   ],
   "source": [
    "data.loc[:,'Date'] = pd.to_datetime(data.loc[:,'Date'], format='%Y/%m/%d', errors='coerce')\n",
    "data['Date']"
   ]
  },
  {
   "cell_type": "code",
   "execution_count": 42,
   "id": "006dd672",
   "metadata": {},
   "outputs": [
    {
     "data": {
      "text/plain": [
       "Product_Code           0\n",
       "Warehouse              0\n",
       "Product_Category       0\n",
       "Date                1880\n",
       "Order_Demand           0\n",
       "dtype: int64"
      ]
     },
     "execution_count": 42,
     "metadata": {},
     "output_type": "execute_result"
    }
   ],
   "source": [
    "data.isnull().sum()"
   ]
  },
  {
   "cell_type": "markdown",
   "id": "1954727a",
   "metadata": {},
   "source": [
    "# dropping the NaN Values"
   ]
  },
  {
   "cell_type": "code",
   "execution_count": 46,
   "id": "ad70413f",
   "metadata": {},
   "outputs": [
    {
     "data": {
      "text/plain": [
       "Product_Code        0\n",
       "Warehouse           0\n",
       "Product_Category    0\n",
       "Date                0\n",
       "Order_Demand        0\n",
       "dtype: int64"
      ]
     },
     "execution_count": 46,
     "metadata": {},
     "output_type": "execute_result"
    }
   ],
   "source": [
    "\n",
    "if 'Date' in data.columns:\n",
    "    data = data.dropna(subset=['Date']).copy()\n",
    "data.isnull().sum()\n",
    "\n"
   ]
  },
  {
   "cell_type": "markdown",
   "id": "83126d6a",
   "metadata": {},
   "source": [
    "# filling the missing values present in the date"
   ]
  },
  {
   "cell_type": "code",
   "execution_count": 47,
   "id": "1db5041d",
   "metadata": {},
   "outputs": [],
   "source": [
    "start_date = pd.to_datetime('2012-01-01')\n",
    "end_date = pd.to_datetime('2016-12-31')\n",
    "data = data[(data['Date'] >= start_date) & (data['Date'] <= end_date)]"
   ]
  },
  {
   "cell_type": "code",
   "execution_count": 50,
   "id": "014719a4",
   "metadata": {},
   "outputs": [
    {
     "data": {
      "text/plain": [
       "Product_Code        0\n",
       "Warehouse           0\n",
       "Product_Category    0\n",
       "Date                0\n",
       "Order_Demand        0\n",
       "dtype: int64"
      ]
     },
     "execution_count": 50,
     "metadata": {},
     "output_type": "execute_result"
    }
   ],
   "source": [
    "data.isnull().sum()   "
   ]
  },
  {
   "cell_type": "markdown",
   "id": "e00fbbc3",
   "metadata": {},
   "source": [
    "\n",
    "# Adding some columns like weekdays, years, weekends"
   ]
  },
  {
   "cell_type": "code",
   "execution_count": 52,
   "id": "3d810d98",
   "metadata": {},
   "outputs": [],
   "source": [
    "wkday = []\n",
    "for i in range(len(data)):\n",
    "    wkday.append(data['Date'].iloc[i].weekday())\n",
    "yr = []\n",
    "for i in range(len(data)):\n",
    "    yr.append(data['Date'].iloc[i].year)\n",
    "\n",
    "mon = []\n",
    "for i in range(len(data)):\n",
    "    mon.append(data['Date'].iloc[i].month)"
   ]
  },
  {
   "cell_type": "code",
   "execution_count": 53,
   "id": "f7f456e9",
   "metadata": {},
   "outputs": [],
   "source": [
    "data.loc[:,'weekday'] = wkday\n",
    "data.loc[:,'year'] = yr\n",
    "data.loc[:,'month'] = mon"
   ]
  },
  {
   "cell_type": "code",
   "execution_count": 57,
   "id": "3ece388e",
   "metadata": {},
   "outputs": [
    {
     "name": "stdout",
     "output_type": "stream",
     "text": [
      "Index(['Product_Code', 'Warehouse', 'Product_Category', 'Order_Demand',\n",
      "       'weekday', 'year', 'month'],\n",
      "      dtype='object')\n",
      "DatetimeIndex(['2012-07-27', '2012-01-19', '2012-02-03', '2012-02-09',\n",
      "               '2012-03-02', '2012-04-19', '2012-06-05', '2012-06-27',\n",
      "               '2012-07-23', '2012-08-29',\n",
      "               ...\n",
      "               '2016-10-12', '2016-11-11', '2016-11-11', '2016-11-02',\n",
      "               '2016-07-07', '2016-11-10', '2016-04-27', '2016-04-28',\n",
      "               '2016-10-07', '2016-06-27'],\n",
      "              dtype='datetime64[ns]', name='Date', length=923607, freq=None)\n"
     ]
    }
   ],
   "source": [
    "print(data.columns)\n",
    "print(data.index)\n",
    "\n"
   ]
  },
  {
   "cell_type": "code",
   "execution_count": 63,
   "id": "aace9d50",
   "metadata": {},
   "outputs": [],
   "source": [
    "data.set_index('Date',inplace=True)\n"
   ]
  },
  {
   "cell_type": "code",
   "execution_count": 64,
   "id": "f9919a8c",
   "metadata": {},
   "outputs": [
    {
     "data": {
      "text/html": [
       "<div>\n",
       "<style scoped>\n",
       "    .dataframe tbody tr th:only-of-type {\n",
       "        vertical-align: middle;\n",
       "    }\n",
       "\n",
       "    .dataframe tbody tr th {\n",
       "        vertical-align: top;\n",
       "    }\n",
       "\n",
       "    .dataframe thead th {\n",
       "        text-align: right;\n",
       "    }\n",
       "</style>\n",
       "<table border=\"1\" class=\"dataframe\">\n",
       "  <thead>\n",
       "    <tr style=\"text-align: right;\">\n",
       "      <th></th>\n",
       "      <th>Product_Code</th>\n",
       "      <th>Warehouse</th>\n",
       "      <th>Product_Category</th>\n",
       "      <th>Order_Demand</th>\n",
       "      <th>weekday</th>\n",
       "      <th>year</th>\n",
       "      <th>month</th>\n",
       "    </tr>\n",
       "    <tr>\n",
       "      <th>Date</th>\n",
       "      <th></th>\n",
       "      <th></th>\n",
       "      <th></th>\n",
       "      <th></th>\n",
       "      <th></th>\n",
       "      <th></th>\n",
       "      <th></th>\n",
       "    </tr>\n",
       "  </thead>\n",
       "  <tbody>\n",
       "    <tr>\n",
       "      <th>2012-07-27</th>\n",
       "      <td>Product_0993</td>\n",
       "      <td>Whse_J</td>\n",
       "      <td>Category_028</td>\n",
       "      <td>100</td>\n",
       "      <td>4</td>\n",
       "      <td>2012</td>\n",
       "      <td>7</td>\n",
       "    </tr>\n",
       "    <tr>\n",
       "      <th>2012-01-19</th>\n",
       "      <td>Product_0979</td>\n",
       "      <td>Whse_J</td>\n",
       "      <td>Category_028</td>\n",
       "      <td>500</td>\n",
       "      <td>3</td>\n",
       "      <td>2012</td>\n",
       "      <td>1</td>\n",
       "    </tr>\n",
       "    <tr>\n",
       "      <th>2012-02-03</th>\n",
       "      <td>Product_0979</td>\n",
       "      <td>Whse_J</td>\n",
       "      <td>Category_028</td>\n",
       "      <td>500</td>\n",
       "      <td>4</td>\n",
       "      <td>2012</td>\n",
       "      <td>2</td>\n",
       "    </tr>\n",
       "    <tr>\n",
       "      <th>2012-02-09</th>\n",
       "      <td>Product_0979</td>\n",
       "      <td>Whse_J</td>\n",
       "      <td>Category_028</td>\n",
       "      <td>500</td>\n",
       "      <td>3</td>\n",
       "      <td>2012</td>\n",
       "      <td>2</td>\n",
       "    </tr>\n",
       "    <tr>\n",
       "      <th>2012-03-02</th>\n",
       "      <td>Product_0979</td>\n",
       "      <td>Whse_J</td>\n",
       "      <td>Category_028</td>\n",
       "      <td>500</td>\n",
       "      <td>4</td>\n",
       "      <td>2012</td>\n",
       "      <td>3</td>\n",
       "    </tr>\n",
       "  </tbody>\n",
       "</table>\n",
       "</div>"
      ],
      "text/plain": [
       "            Product_Code Warehouse Product_Category Order_Demand  weekday  \\\n",
       "Date                                                                        \n",
       "2012-07-27  Product_0993    Whse_J     Category_028         100         4   \n",
       "2012-01-19  Product_0979    Whse_J     Category_028         500         3   \n",
       "2012-02-03  Product_0979    Whse_J     Category_028         500         4   \n",
       "2012-02-09  Product_0979    Whse_J     Category_028         500         3   \n",
       "2012-03-02  Product_0979    Whse_J     Category_028         500         4   \n",
       "\n",
       "            year  month  \n",
       "Date                     \n",
       "2012-07-27  2012      7  \n",
       "2012-01-19  2012      1  \n",
       "2012-02-03  2012      2  \n",
       "2012-02-09  2012      2  \n",
       "2012-03-02  2012      3  "
      ]
     },
     "execution_count": 64,
     "metadata": {},
     "output_type": "execute_result"
    }
   ],
   "source": [
    "data.head()"
   ]
  },
  {
   "cell_type": "code",
   "execution_count": 77,
   "id": "52c0889c",
   "metadata": {},
   "outputs": [],
   "source": [
    "def weekend(day):\n",
    "    if day == 5 or day == 6:\n",
    "        return 1\n",
    "    else:\n",
    "        return 0"
   ]
  },
  {
   "cell_type": "code",
   "execution_count": 81,
   "id": "8f05dc2d",
   "metadata": {},
   "outputs": [],
   "source": [
    "data.loc[:,'Weekend'] = data['weekday'].apply(weekend)"
   ]
  },
  {
   "cell_type": "code",
   "execution_count": 79,
   "id": "4b410d32",
   "metadata": {},
   "outputs": [
    {
     "data": {
      "text/html": [
       "<div>\n",
       "<style scoped>\n",
       "    .dataframe tbody tr th:only-of-type {\n",
       "        vertical-align: middle;\n",
       "    }\n",
       "\n",
       "    .dataframe tbody tr th {\n",
       "        vertical-align: top;\n",
       "    }\n",
       "\n",
       "    .dataframe thead th {\n",
       "        text-align: right;\n",
       "    }\n",
       "</style>\n",
       "<table border=\"1\" class=\"dataframe\">\n",
       "  <thead>\n",
       "    <tr style=\"text-align: right;\">\n",
       "      <th></th>\n",
       "      <th>Product_Code</th>\n",
       "      <th>Warehouse</th>\n",
       "      <th>Product_Category</th>\n",
       "      <th>Order_Demand</th>\n",
       "      <th>weekday</th>\n",
       "      <th>year</th>\n",
       "      <th>month</th>\n",
       "      <th>Weekend</th>\n",
       "    </tr>\n",
       "    <tr>\n",
       "      <th>Date</th>\n",
       "      <th></th>\n",
       "      <th></th>\n",
       "      <th></th>\n",
       "      <th></th>\n",
       "      <th></th>\n",
       "      <th></th>\n",
       "      <th></th>\n",
       "      <th></th>\n",
       "    </tr>\n",
       "  </thead>\n",
       "  <tbody>\n",
       "    <tr>\n",
       "      <th>2012-08-25</th>\n",
       "      <td>Product_1241</td>\n",
       "      <td>Whse_S</td>\n",
       "      <td>Category_019</td>\n",
       "      <td>30000</td>\n",
       "      <td>5</td>\n",
       "      <td>2012</td>\n",
       "      <td>8</td>\n",
       "      <td>1</td>\n",
       "    </tr>\n",
       "    <tr>\n",
       "      <th>2012-08-25</th>\n",
       "      <td>Product_1570</td>\n",
       "      <td>Whse_S</td>\n",
       "      <td>Category_019</td>\n",
       "      <td>90000</td>\n",
       "      <td>5</td>\n",
       "      <td>2012</td>\n",
       "      <td>8</td>\n",
       "      <td>1</td>\n",
       "    </tr>\n",
       "    <tr>\n",
       "      <th>2012-08-25</th>\n",
       "      <td>Product_1904</td>\n",
       "      <td>Whse_S</td>\n",
       "      <td>Category_019</td>\n",
       "      <td>100000</td>\n",
       "      <td>5</td>\n",
       "      <td>2012</td>\n",
       "      <td>8</td>\n",
       "      <td>1</td>\n",
       "    </tr>\n",
       "    <tr>\n",
       "      <th>2012-11-04</th>\n",
       "      <td>Product_1241</td>\n",
       "      <td>Whse_S</td>\n",
       "      <td>Category_019</td>\n",
       "      <td>100000</td>\n",
       "      <td>6</td>\n",
       "      <td>2012</td>\n",
       "      <td>11</td>\n",
       "      <td>1</td>\n",
       "    </tr>\n",
       "    <tr>\n",
       "      <th>2012-11-04</th>\n",
       "      <td>Product_1570</td>\n",
       "      <td>Whse_S</td>\n",
       "      <td>Category_019</td>\n",
       "      <td>85000</td>\n",
       "      <td>6</td>\n",
       "      <td>2012</td>\n",
       "      <td>11</td>\n",
       "      <td>1</td>\n",
       "    </tr>\n",
       "  </tbody>\n",
       "</table>\n",
       "</div>"
      ],
      "text/plain": [
       "            Product_Code Warehouse Product_Category Order_Demand  weekday  \\\n",
       "Date                                                                        \n",
       "2012-08-25  Product_1241    Whse_S     Category_019       30000         5   \n",
       "2012-08-25  Product_1570    Whse_S     Category_019       90000         5   \n",
       "2012-08-25  Product_1904    Whse_S     Category_019      100000         5   \n",
       "2012-11-04  Product_1241    Whse_S     Category_019      100000         6   \n",
       "2012-11-04  Product_1570    Whse_S     Category_019       85000         6   \n",
       "\n",
       "            year  month  Weekend  \n",
       "Date                              \n",
       "2012-08-25  2012      8        1  \n",
       "2012-08-25  2012      8        1  \n",
       "2012-08-25  2012      8        1  \n",
       "2012-11-04  2012     11        1  \n",
       "2012-11-04  2012     11        1  "
      ]
     },
     "execution_count": 79,
     "metadata": {},
     "output_type": "execute_result"
    }
   ],
   "source": [
    "data[data['Weekend'] == 1].head()\n"
   ]
  },
  {
   "cell_type": "code",
   "execution_count": 76,
   "id": "ed81e2af",
   "metadata": {},
   "outputs": [
    {
     "data": {
      "text/plain": [
       "Index(['Product_Code', 'Warehouse', 'Product_Category', 'Order_Demand',\n",
       "       'weekday', 'year', 'month', 'Weekend'],\n",
       "      dtype='object')"
      ]
     },
     "execution_count": 76,
     "metadata": {},
     "output_type": "execute_result"
    }
   ],
   "source": [
    "data.columns"
   ]
  },
  {
   "cell_type": "code",
   "execution_count": 82,
   "id": "57d9b320",
   "metadata": {},
   "outputs": [
    {
     "data": {
      "text/plain": [
       "Warehouse\n",
       "Whse_J    665388\n",
       "Whse_A    130618\n",
       "Whse_S     86042\n",
       "Whse_C     41559\n",
       "Name: count, dtype: int64"
      ]
     },
     "execution_count": 82,
     "metadata": {},
     "output_type": "execute_result"
    }
   ],
   "source": [
    "data['Warehouse'].value_counts(ascending=False)"
   ]
  },
  {
   "cell_type": "markdown",
   "id": "64ebdad7",
   "metadata": {},
   "source": [
    "# Extracting rows corresponding to Warehouse J"
   ]
  },
  {
   "cell_type": "markdown",
   "id": "3b1278a7",
   "metadata": {},
   "source": []
  }
 ],
 "metadata": {
  "kernelspec": {
   "display_name": "base",
   "language": "python",
   "name": "python3"
  },
  "language_info": {
   "codemirror_mode": {
    "name": "ipython",
    "version": 3
   },
   "file_extension": ".py",
   "mimetype": "text/x-python",
   "name": "python",
   "nbconvert_exporter": "python",
   "pygments_lexer": "ipython3",
   "version": "3.12.7"
  }
 },
 "nbformat": 4,
 "nbformat_minor": 5
}
